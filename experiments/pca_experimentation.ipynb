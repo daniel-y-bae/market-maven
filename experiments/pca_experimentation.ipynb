{
 "cells": [
  {
   "cell_type": "code",
   "execution_count": 1,
   "metadata": {},
   "outputs": [],
   "source": [
    "import pandas as pd\n",
    "import matplotlib.pyplot as plt\n",
    "import numpy as np\n",
    "from scipy import stats\n",
    "\n",
    "import sqlite3\n",
    "\n",
    "from sklearn.cluster import KMeans\n",
    "from sklearn.preprocessing import StandardScaler\n",
    "from sklearn.decomposition import PCA\n",
    "from sklearn.impute import KNNImputer\n",
    "from sklearn.neighbors import KDTree"
   ]
  },
  {
   "cell_type": "markdown",
   "metadata": {},
   "source": [
    "### Reading in the data"
   ]
  },
  {
   "cell_type": "code",
   "execution_count": 2,
   "metadata": {},
   "outputs": [],
   "source": [
    "conn = sqlite3.connect(\"market_maven.sqlite\")\n",
    "raw_data = pd.read_sql(\"select * from metrics_no_percentiles_v\", conn)\n",
    "conn.close()"
   ]
  },
  {
   "cell_type": "markdown",
   "metadata": {},
   "source": [
    "### Data cleaning and imputing missing values"
   ]
  },
  {
   "cell_type": "code",
   "execution_count": 3,
   "metadata": {},
   "outputs": [],
   "source": [
    "# dropping columns that are just names or identifiers\n",
    "numeric_data = raw_data.select_dtypes(exclude=\"object\")\n",
    "\n",
    "# imputing missing values based on nearest neighbors instead of deleting them\n",
    "imp = KNNImputer(n_neighbors=10, weights=\"distance\")\n",
    "numeric_imputed = pd.DataFrame(imp.fit_transform(numeric_data), columns=numeric_data.columns)"
   ]
  },
  {
   "cell_type": "markdown",
   "metadata": {},
   "source": [
    "### Removing outliers"
   ]
  },
  {
   "cell_type": "code",
   "execution_count": 4,
   "metadata": {},
   "outputs": [],
   "source": [
    "# removing extreme outliers\n",
    "# documentation says RobustScaler handles outliers but there was data for Rio Arriba county New Mexico and\n",
    "# Loving county Texas that were too extreme so using StandardScaler and handling outliers manually\n",
    "outliers = numeric_imputed[(np.abs(stats.zscore(numeric_imputed)) >= 50).all(axis=1)].index\n",
    "if len(outliers) != 0:\n",
    "    numeric_ex_outlier = numeric_imputed.drop(outliers).reset_index()\n",
    "    full_ex_outlier = raw_data.drop(outliers).reset_index()\n",
    "else:\n",
    "    numeric_ex_outlier = numeric_imputed\n",
    "    full_ex_outlier = raw_data"
   ]
  },
  {
   "cell_type": "markdown",
   "metadata": {},
   "source": [
    "### Scaling data"
   ]
  },
  {
   "cell_type": "code",
   "execution_count": 5,
   "metadata": {},
   "outputs": [],
   "source": [
    "scaler = StandardScaler().fit(numeric_ex_outlier) \n",
    "scaled_data = scaler.transform(numeric_ex_outlier)"
   ]
  },
  {
   "cell_type": "markdown",
   "metadata": {},
   "source": [
    "### Fitting pca"
   ]
  },
  {
   "cell_type": "code",
   "execution_count": 6,
   "metadata": {},
   "outputs": [],
   "source": [
    "my_pca = PCA().fit(scaled_data)"
   ]
  },
  {
   "cell_type": "markdown",
   "metadata": {},
   "source": [
    "### Explained variance ratio of principal components\n",
    "\n",
    "The first 18, of the 32 total principal components, explain roughly 99% of the variance in the data so they will be the focus"
   ]
  },
  {
   "cell_type": "code",
   "execution_count": 7,
   "metadata": {},
   "outputs": [
    {
     "data": {
      "text/plain": [
       "0.417978974656947"
      ]
     },
     "execution_count": 7,
     "metadata": {},
     "output_type": "execute_result"
    }
   ],
   "source": [
    "np.sum(my_pca.explained_variance_ratio_[:2])"
   ]
  },
  {
   "cell_type": "code",
   "execution_count": 115,
   "metadata": {},
   "outputs": [],
   "source": [
    "components_df = pd.DataFrame(my_pca.components_, columns=numeric_data.columns)\n",
    "top_components_df = components_df.iloc[:18,:].transpose()"
   ]
  },
  {
   "cell_type": "markdown",
   "metadata": {},
   "source": [
    "### Coefficients analysis\n",
    "\n",
    "The coefficients for each of the 32 attributes across the first 18 principal components are weighted by that components explained variance ratio and summed up"
   ]
  },
  {
   "cell_type": "code",
   "execution_count": 116,
   "metadata": {},
   "outputs": [],
   "source": [
    "coef_sum = {}\n",
    "i = 0\n",
    "for col in top_components_df:\n",
    "    if i == 0:\n",
    "        # taking the absolute value, the magnitude can be large irrespective of the direction\n",
    "        for ind, val in zip(top_components_df[col].abs().index, top_components_df[col].abs().values):\n",
    "            coef_sum[ind] = val * my_pca.explained_variance_ratio_[i]\n",
    "    else:\n",
    "        # taking the absolute value, the magnitude can be large irrespective of the direction\n",
    "        for ind, val in zip(top_components_df[col].abs().index, top_components_df[col].abs().values):\n",
    "            coef_sum[ind] += val * my_pca.explained_variance_ratio_[i]\n",
    "    i += 1"
   ]
  },
  {
   "cell_type": "markdown",
   "metadata": {},
   "source": [
    "### Results\n",
    "\n",
    "The results are stored in a DataFrame and sorted from largest to smallest"
   ]
  },
  {
   "cell_type": "code",
   "execution_count": 117,
   "metadata": {},
   "outputs": [
    {
     "data": {
      "text/html": [
       "<div>\n",
       "<style scoped>\n",
       "    .dataframe tbody tr th:only-of-type {\n",
       "        vertical-align: middle;\n",
       "    }\n",
       "\n",
       "    .dataframe tbody tr th {\n",
       "        vertical-align: top;\n",
       "    }\n",
       "\n",
       "    .dataframe thead th {\n",
       "        text-align: right;\n",
       "    }\n",
       "</style>\n",
       "<table border=\"1\" class=\"dataframe\">\n",
       "  <thead>\n",
       "    <tr style=\"text-align: right;\">\n",
       "      <th></th>\n",
       "      <th>coef_sum</th>\n",
       "    </tr>\n",
       "  </thead>\n",
       "  <tbody>\n",
       "    <tr>\n",
       "      <th>edu_bachelors_and_higher_perc</th>\n",
       "      <td>0.146829</td>\n",
       "    </tr>\n",
       "    <tr>\n",
       "      <th>commute_green_perc</th>\n",
       "      <td>0.144784</td>\n",
       "    </tr>\n",
       "    <tr>\n",
       "      <th>popden_urban</th>\n",
       "      <td>0.143723</td>\n",
       "    </tr>\n",
       "    <tr>\n",
       "      <th>housing_vacancy_perc</th>\n",
       "      <td>0.137040</td>\n",
       "    </tr>\n",
       "    <tr>\n",
       "      <th>housing_occupied_perc</th>\n",
       "      <td>0.137039</td>\n",
       "    </tr>\n",
       "    <tr>\n",
       "      <th>popden_rural</th>\n",
       "      <td>0.136403</td>\n",
       "    </tr>\n",
       "    <tr>\n",
       "      <th>political_scale</th>\n",
       "      <td>0.135702</td>\n",
       "    </tr>\n",
       "    <tr>\n",
       "      <th>median_age</th>\n",
       "      <td>0.131015</td>\n",
       "    </tr>\n",
       "    <tr>\n",
       "      <th>total_hh</th>\n",
       "      <td>0.130736</td>\n",
       "    </tr>\n",
       "    <tr>\n",
       "      <th>tot_pop</th>\n",
       "      <td>0.130439</td>\n",
       "    </tr>\n",
       "    <tr>\n",
       "      <th>avg_sunny_days</th>\n",
       "      <td>0.129518</td>\n",
       "    </tr>\n",
       "    <tr>\n",
       "      <th>renter_perc</th>\n",
       "      <td>0.128728</td>\n",
       "    </tr>\n",
       "    <tr>\n",
       "      <th>owner_perc</th>\n",
       "      <td>0.128728</td>\n",
       "    </tr>\n",
       "    <tr>\n",
       "      <th>pop_net_mvmt_only_us</th>\n",
       "      <td>0.127821</td>\n",
       "    </tr>\n",
       "    <tr>\n",
       "      <th>pop_out_mvmt_only_us</th>\n",
       "      <td>0.127601</td>\n",
       "    </tr>\n",
       "    <tr>\n",
       "      <th>poppct_rural</th>\n",
       "      <td>0.127601</td>\n",
       "    </tr>\n",
       "    <tr>\n",
       "      <th>poppct_urban</th>\n",
       "      <td>0.127601</td>\n",
       "    </tr>\n",
       "    <tr>\n",
       "      <th>areapct_rural</th>\n",
       "      <td>0.127264</td>\n",
       "    </tr>\n",
       "    <tr>\n",
       "      <th>areapct_urban</th>\n",
       "      <td>0.127264</td>\n",
       "    </tr>\n",
       "    <tr>\n",
       "      <th>pop_in_mvmt_only_us</th>\n",
       "      <td>0.126935</td>\n",
       "    </tr>\n",
       "    <tr>\n",
       "      <th>tot_area_sqmi</th>\n",
       "      <td>0.114084</td>\n",
       "    </tr>\n",
       "    <tr>\n",
       "      <th>avg_winter_temp</th>\n",
       "      <td>0.111328</td>\n",
       "    </tr>\n",
       "    <tr>\n",
       "      <th>avg_fall_temp</th>\n",
       "      <td>0.103055</td>\n",
       "    </tr>\n",
       "    <tr>\n",
       "      <th>avg_annual_temp</th>\n",
       "      <td>0.102543</td>\n",
       "    </tr>\n",
       "    <tr>\n",
       "      <th>avg_spring_temp</th>\n",
       "      <td>0.099100</td>\n",
       "    </tr>\n",
       "    <tr>\n",
       "      <th>avg_summer_temp</th>\n",
       "      <td>0.091193</td>\n",
       "    </tr>\n",
       "    <tr>\n",
       "      <th>commute_time_in_min</th>\n",
       "      <td>0.089928</td>\n",
       "    </tr>\n",
       "    <tr>\n",
       "      <th>pop_net_mvmt_only_us_percent_of_pop</th>\n",
       "      <td>0.089343</td>\n",
       "    </tr>\n",
       "    <tr>\n",
       "      <th>median_hh_income</th>\n",
       "      <td>0.082722</td>\n",
       "    </tr>\n",
       "    <tr>\n",
       "      <th>per_capita_income</th>\n",
       "      <td>0.082710</td>\n",
       "    </tr>\n",
       "    <tr>\n",
       "      <th>poverty_perc</th>\n",
       "      <td>0.082703</td>\n",
       "    </tr>\n",
       "    <tr>\n",
       "      <th>unemployment_perc</th>\n",
       "      <td>0.082703</td>\n",
       "    </tr>\n",
       "  </tbody>\n",
       "</table>\n",
       "</div>"
      ],
      "text/plain": [
       "                                     coef_sum\n",
       "edu_bachelors_and_higher_perc        0.146829\n",
       "commute_green_perc                   0.144784\n",
       "popden_urban                         0.143723\n",
       "housing_vacancy_perc                 0.137040\n",
       "housing_occupied_perc                0.137039\n",
       "popden_rural                         0.136403\n",
       "political_scale                      0.135702\n",
       "median_age                           0.131015\n",
       "total_hh                             0.130736\n",
       "tot_pop                              0.130439\n",
       "avg_sunny_days                       0.129518\n",
       "renter_perc                          0.128728\n",
       "owner_perc                           0.128728\n",
       "pop_net_mvmt_only_us                 0.127821\n",
       "pop_out_mvmt_only_us                 0.127601\n",
       "poppct_rural                         0.127601\n",
       "poppct_urban                         0.127601\n",
       "areapct_rural                        0.127264\n",
       "areapct_urban                        0.127264\n",
       "pop_in_mvmt_only_us                  0.126935\n",
       "tot_area_sqmi                        0.114084\n",
       "avg_winter_temp                      0.111328\n",
       "avg_fall_temp                        0.103055\n",
       "avg_annual_temp                      0.102543\n",
       "avg_spring_temp                      0.099100\n",
       "avg_summer_temp                      0.091193\n",
       "commute_time_in_min                  0.089928\n",
       "pop_net_mvmt_only_us_percent_of_pop  0.089343\n",
       "median_hh_income                     0.082722\n",
       "per_capita_income                    0.082710\n",
       "poverty_perc                         0.082703\n",
       "unemployment_perc                    0.082703"
      ]
     },
     "execution_count": 117,
     "metadata": {},
     "output_type": "execute_result"
    }
   ],
   "source": [
    "coef_sum_df = pd.DataFrame([coef_sum]).transpose()\n",
    "coef_sum_df.columns = [\"coef_sum\"]\n",
    "coef_sum_df.sort_values(by=\"coef_sum\", ascending=False, inplace=True)\n",
    "coef_sum_df"
   ]
  },
  {
   "cell_type": "markdown",
   "metadata": {},
   "source": [
    "### Conclusion\n",
    "\n",
    "In theory, these results can be used in conjunction with the results of our participant survey experiment. In that experiment, participants largely agreed that the results of our clustering algorithm and the similar counties it recommended were interesting to them. Those recommendations are driven by the principal components described above, particularly the first two as our visualization was two dimensional. Therefore, the results of summing up the weighted coefficients could be used to identify valuable data in a methodical and efficient manner and to guide the selection of features that would provide the most value to users of Market Maven."
   ]
  }
 ],
 "metadata": {
  "kernelspec": {
   "display_name": "Python 3",
   "language": "python",
   "name": "python3"
  },
  "language_info": {
   "codemirror_mode": {
    "name": "ipython",
    "version": 3
   },
   "file_extension": ".py",
   "mimetype": "text/x-python",
   "name": "python",
   "nbconvert_exporter": "python",
   "pygments_lexer": "ipython3",
   "version": "3.8.3"
  }
 },
 "nbformat": 4,
 "nbformat_minor": 4
}
